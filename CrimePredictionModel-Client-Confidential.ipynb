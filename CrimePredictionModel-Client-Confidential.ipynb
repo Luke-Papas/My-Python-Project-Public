{
 "cells": [
  {
   "cell_type": "markdown",
   "id": "ec1ad409",
   "metadata": {},
   "source": [
    "# 3.) Identifies Flowers in a image. Supervised ML solving a multi label classification problem\n",
    "-------------------------------------------------------"
   ]
  },
  {
   "cell_type": "code",
   "execution_count": null,
   "id": "062dd0b8",
   "metadata": {},
   "outputs": [],
   "source": []
  }
 ],
 "metadata": {
  "language_info": {
   "name": "python"
  }
 },
 "nbformat": 4,
 "nbformat_minor": 5
}
