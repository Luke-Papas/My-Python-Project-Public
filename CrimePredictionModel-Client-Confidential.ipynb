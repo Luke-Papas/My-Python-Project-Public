{
 "cells": [
  {
   "cell_type": "markdown",
   "id": "ec1ad409",
   "metadata": {},
   "source": [
    "# 2.) Predicts crime in the UK (England, Scotland, Wales, Northen Ireland). Supervised learning solving a binary classification\n",
    "-------------------------------------------------------"
   ]
  },
  {
   "cell_type": "markdown",
   "id": "eea7b2d4",
   "metadata": {},
   "source": [
    "\n",
    "### ML summary for client"
   ]
  },
  {
   "cell_type": "markdown",
   "id": "b6648570",
   "metadata": {},
   "source": [
    "A machine learning model/algorithm studies data to fins patterns/trends. The trends are stored in the model.\n",
    "Loss function (similar to error), how far the estimated value is from the expected. Loss functions are used to optimise and not really as an overall indication of the model.\n",
    "Labeled data already has the answer you want the machine to predict\n",
    "Evaluate the model using the remaing 20%, we used 80% to train the model \n",
    "\n",
    "Training a model is like us going through university\n",
    "We get tested on a bunch of work we have seen before, we get results (loss functions) we then perform better according to the loss function and when it comes to the exam we get tested on the last bit we have not been tested on. "
   ]
  },
  {
   "cell_type": "markdown",
   "id": "336b9ba4",
   "metadata": {},
   "source": [
    "### Loss Function Evaluation Metrics:\n",
    "\n",
    "- Mean squared error (MSE)\n",
    "- F1\n",
    "- Accuracy\n",
    "- AUC\n",
    "- R^2\n",
    "\n",
    "\n",
    "### Learning algorithms to choose from\n",
    "\n",
    "- Linear regression: \n",
    "    Solve regression, predict numerics\n",
    "\n",
    "- Logistic regression:\n",
    "    Classification problems (NOT REGRESSION)\n",
    "    Predict probability using binary values between a 1 and 0 Y value\n",
    "    closer to 1 is better/more confident prediction\n",
    "\n",
    "- Decision Tree\n",
    "    _Classification_ & _Regression_ \n",
    "    Tree depth can be configured using hyper parameters \n",
    "    XGBoost - decision tree based ml model\n",
    "\n",
    "- Random Forest\n",
    "    Set of _Decision Trees_\n",
    "    Each tree makes its own prediction"
   ]
  },
  {
   "cell_type": "markdown",
   "id": "f422f237",
   "metadata": {},
   "source": [
    "Clients question: Will a stop lead to an arrest? \n",
    "\n",
    "Police stop and search individuals and they need to figure out if they can predict the outcome based on features\n",
    "\n",
    "Features: \n",
    "\n",
    "Location\n",
    "Gender, ethnicity, time of day etc"
   ]
  },
  {
   "cell_type": "code",
   "execution_count": null,
   "id": "062dd0b8",
   "metadata": {},
   "outputs": [],
   "source": []
  }
 ],
 "metadata": {
  "language_info": {
   "name": "python"
  }
 },
 "nbformat": 4,
 "nbformat_minor": 5
}
